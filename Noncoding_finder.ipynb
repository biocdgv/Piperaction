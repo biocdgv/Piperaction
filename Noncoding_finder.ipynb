{
 "cells": [
  {
   "cell_type": "markdown",
   "metadata": {},
   "source": [
    "# Getting those coding RNAs's, lncRNAs's and their partnerRNA transcripts 's sequences with several coding potential tools"
   ]
  },
  {
   "cell_type": "code",
   "execution_count": null,
   "metadata": {},
   "outputs": [],
   "source": []
  },
  {
   "cell_type": "markdown",
   "metadata": {},
   "source": [
    "# Script content:\n",
    "\n",
    "* [<font size=\"4\">Pipeline overview</font>](#Pipeline-description):\n",
    "    <br>\n",
    "\n",
    "    - [<font size=\"3\">Step 1: Preprocessing of input data</font>](#STEP-1:Preprocessing-of-input-data) \n",
    "     <br>\n",
    "\n",
    "    - [<font size=\"3\">Step 2: *de novo* assembly of transcripts</font>](#STEP-2:de-novo-assembly-of-transcripts)\n",
    "    <br>\n",
    "\n",
    "    - [<font size=\"3\">Step 3: Transcriptome quality assessment</font>](#STEP-3:Transcriptome-quality-assessment)\n",
    "    <br>\n",
    "\n",
    "    - [<font size=\"3\">Step 4: Merging assemblies</font>](#STEP-4:Merging-assemblies)\n",
    "    <br>\n",
    "\n",
    "    - [<font size=\"3\">Step 5: Coding potential</font>](#STEP-5:Coding-potential)\n",
    "    <br>\n",
    "    \n",
    "    - [<font size=\"3\">Step 6: Annotation</font>](#STEP-6:Annotation)\n",
    "    <br>\n",
    "\n",
    "*  [<font size=\"4\">Contact</font>](#Contact)\n",
    "   <br>\n",
    "\n",
    "*  [<font size=\"4\">References</font>](#References)\n",
    "   <br>\n",
    "\n",
    "*  [<font size=\"4\">Keynotes</font>](#Keynote)\n"
   ]
  },
  {
   "cell_type": "markdown",
   "metadata": {},
   "source": [
    "# Required libraries"
   ]
  },
  {
   "cell_type": "code",
   "execution_count": 2,
   "metadata": {},
   "outputs": [],
   "source": [
    "from csv import writer as write\n",
    "import os\n",
    "import pandas as pd\n",
    "from Bio import SeqIO\n",
    "import numpy as np\n",
    "base_path= os.getcwd()"
   ]
  },
  {
   "cell_type": "markdown",
   "metadata": {},
   "source": [
    "At first, those  analyzed transcripts with PlEK, CPC2, PORTRAIT, that search for coding potential in the overall transcriptome, need to be converted into dataframes, in order to be manipulated further:"
   ]
  },
  {
   "cell_type": "markdown",
   "metadata": {},
   "source": [
    "# Non-coding and coding transcripts from PLEK (Li et al. 2014):"
   ]
  },
  {
   "cell_type": "markdown",
   "metadata": {},
   "source": [
    "Convert PLEK's file into a dataframe:"
   ]
  },
  {
   "cell_type": "code",
   "execution_count": 4,
   "metadata": {},
   "outputs": [
    {
     "name": "stdout",
     "output_type": "stream",
     "text": [
      "(424, 2)\n"
     ]
    },
    {
     "data": {
      "text/html": [
       "<div>\n",
       "<style scoped>\n",
       "    .dataframe tbody tr th:only-of-type {\n",
       "        vertical-align: middle;\n",
       "    }\n",
       "\n",
       "    .dataframe tbody tr th {\n",
       "        vertical-align: top;\n",
       "    }\n",
       "\n",
       "    .dataframe thead th {\n",
       "        text-align: right;\n",
       "    }\n",
       "</style>\n",
       "<table border=\"1\" class=\"dataframe\">\n",
       "  <thead>\n",
       "    <tr style=\"text-align: right;\">\n",
       "      <th></th>\n",
       "      <th>ID</th>\n",
       "      <th>label</th>\n",
       "    </tr>\n",
       "  </thead>\n",
       "  <tbody>\n",
       "    <tr>\n",
       "      <th>419</th>\n",
       "      <td>&gt;rna_337</td>\n",
       "      <td>Non-coding</td>\n",
       "    </tr>\n",
       "    <tr>\n",
       "      <th>420</th>\n",
       "      <td>&gt;rna_338</td>\n",
       "      <td>Non-coding</td>\n",
       "    </tr>\n",
       "    <tr>\n",
       "      <th>421</th>\n",
       "      <td>&gt;rna_346</td>\n",
       "      <td>Non-coding</td>\n",
       "    </tr>\n",
       "    <tr>\n",
       "      <th>422</th>\n",
       "      <td>&gt;rna_347</td>\n",
       "      <td>Non-coding</td>\n",
       "    </tr>\n",
       "    <tr>\n",
       "      <th>423</th>\n",
       "      <td>&gt;idb_0</td>\n",
       "      <td>Non-coding</td>\n",
       "    </tr>\n",
       "  </tbody>\n",
       "</table>\n",
       "</div>"
      ],
      "text/plain": [
       "           ID       label\n",
       "419  >rna_337  Non-coding\n",
       "420  >rna_338  Non-coding\n",
       "421  >rna_346  Non-coding\n",
       "422  >rna_347  Non-coding\n",
       "423    >idb_0  Non-coding"
      ]
     },
     "execution_count": 4,
     "metadata": {},
     "output_type": "execute_result"
    }
   ],
   "source": [
    "PLEK=pd.read_csv('PLEK/nc_PLEK',sep='\\t') \n",
    "PP=[PLEK.columns[0],PLEK.columns[2]]\n",
    "PLEK.columns=['label','s','ID']\n",
    "PPLEK=PLEK.append({'ID' : PP[1] , 'label' : PP[0]} , ignore_index=True)\n",
    "PLEK2=PPLEK[['ID','label']]\n",
    "print(PLEK2.shape)\n",
    "PLEK2.tail()"
   ]
  },
  {
   "cell_type": "markdown",
   "metadata": {},
   "source": [
    "# Non-coding and coding transcripts from CPC2 (Kang et al. 2017):"
   ]
  },
  {
   "cell_type": "markdown",
   "metadata": {},
   "source": [
    "Convert CPC2's file into a dataframe:"
   ]
  },
  {
   "cell_type": "code",
   "execution_count": 5,
   "metadata": {},
   "outputs": [
    {
     "name": "stdout",
     "output_type": "stream",
     "text": [
      "(424, 2)\n"
     ]
    },
    {
     "data": {
      "text/html": [
       "<div>\n",
       "<style scoped>\n",
       "    .dataframe tbody tr th:only-of-type {\n",
       "        vertical-align: middle;\n",
       "    }\n",
       "\n",
       "    .dataframe tbody tr th {\n",
       "        vertical-align: top;\n",
       "    }\n",
       "\n",
       "    .dataframe thead th {\n",
       "        text-align: right;\n",
       "    }\n",
       "</style>\n",
       "<table border=\"1\" class=\"dataframe\">\n",
       "  <thead>\n",
       "    <tr style=\"text-align: right;\">\n",
       "      <th></th>\n",
       "      <th>ID</th>\n",
       "      <th>label</th>\n",
       "    </tr>\n",
       "  </thead>\n",
       "  <tbody>\n",
       "    <tr>\n",
       "      <th>419</th>\n",
       "      <td>rna_336</td>\n",
       "      <td>noncoding</td>\n",
       "    </tr>\n",
       "    <tr>\n",
       "      <th>420</th>\n",
       "      <td>rna_337</td>\n",
       "      <td>noncoding</td>\n",
       "    </tr>\n",
       "    <tr>\n",
       "      <th>421</th>\n",
       "      <td>rna_338</td>\n",
       "      <td>noncoding</td>\n",
       "    </tr>\n",
       "    <tr>\n",
       "      <th>422</th>\n",
       "      <td>rna_346</td>\n",
       "      <td>noncoding</td>\n",
       "    </tr>\n",
       "    <tr>\n",
       "      <th>423</th>\n",
       "      <td>rna_347</td>\n",
       "      <td>noncoding</td>\n",
       "    </tr>\n",
       "  </tbody>\n",
       "</table>\n",
       "</div>"
      ],
      "text/plain": [
       "          ID      label\n",
       "419  rna_336  noncoding\n",
       "420  rna_337  noncoding\n",
       "421  rna_338  noncoding\n",
       "422  rna_346  noncoding\n",
       "423  rna_347  noncoding"
      ]
     },
     "execution_count": 5,
     "metadata": {},
     "output_type": "execute_result"
    }
   ],
   "source": [
    "CPC2=pd.read_csv('CPC2/Purp_global', sep=\"\\t\",usecols=('#ID','label')) \n",
    "CPC2.columns=['ID','label']\n",
    "print(CPC2.shape)\n",
    "CPC2.tail()"
   ]
  },
  {
   "cell_type": "markdown",
   "metadata": {},
   "source": [
    "# Non-coding and coding transcripts from PORTRAIT (Arrial et al. 2009):"
   ]
  },
  {
   "cell_type": "markdown",
   "metadata": {},
   "source": [
    "Convert PORTRAIT's file into a dataframe:"
   ]
  },
  {
   "cell_type": "code",
   "execution_count": 6,
   "metadata": {},
   "outputs": [
    {
     "name": "stdout",
     "output_type": "stream",
     "text": [
      "(424, 2)\n"
     ]
    },
    {
     "data": {
      "text/html": [
       "<div>\n",
       "<style scoped>\n",
       "    .dataframe tbody tr th:only-of-type {\n",
       "        vertical-align: middle;\n",
       "    }\n",
       "\n",
       "    .dataframe tbody tr th {\n",
       "        vertical-align: top;\n",
       "    }\n",
       "\n",
       "    .dataframe thead th {\n",
       "        text-align: right;\n",
       "    }\n",
       "</style>\n",
       "<table border=\"1\" class=\"dataframe\">\n",
       "  <thead>\n",
       "    <tr style=\"text-align: right;\">\n",
       "      <th></th>\n",
       "      <th>ID</th>\n",
       "      <th>label</th>\n",
       "    </tr>\n",
       "  </thead>\n",
       "  <tbody>\n",
       "    <tr>\n",
       "      <th>419</th>\n",
       "      <td>&gt;rna_331</td>\n",
       "      <td>0</td>\n",
       "    </tr>\n",
       "    <tr>\n",
       "      <th>420</th>\n",
       "      <td>&gt;rna_335</td>\n",
       "      <td>1</td>\n",
       "    </tr>\n",
       "    <tr>\n",
       "      <th>421</th>\n",
       "      <td>&gt;rna_336</td>\n",
       "      <td>0</td>\n",
       "    </tr>\n",
       "    <tr>\n",
       "      <th>422</th>\n",
       "      <td>&gt;rna_347</td>\n",
       "      <td>0</td>\n",
       "    </tr>\n",
       "    <tr>\n",
       "      <th>423</th>\n",
       "      <td>&gt;idb_2</td>\n",
       "      <td>0</td>\n",
       "    </tr>\n",
       "  </tbody>\n",
       "</table>\n",
       "</div>"
      ],
      "text/plain": [
       "            ID label\n",
       "419  >rna_331      0\n",
       "420  >rna_335      1\n",
       "421  >rna_336      0\n",
       "422  >rna_347      0\n",
       "423    >idb_2      0"
      ]
     },
     "execution_count": 6,
     "metadata": {},
     "output_type": "execute_result"
    }
   ],
   "source": [
    "PORTRAIT= pd.read_csv('PORTRAIT/Purp_global.fasta_results_all.scores',sep=':') \n",
    "PR=[PORTRAIT.columns[0],PORTRAIT.columns[1]]\n",
    "PORTRAIT.columns=['ID','label','score']\n",
    "PPORTRAIT=PORTRAIT.append({'ID' : PR[0] , 'label' : PR[1]} , ignore_index=True)\n",
    "PORTRAIT2=PPORTRAIT[['ID','label']]\n",
    "print(PORTRAIT2.shape)\n",
    "PORTRAIT2.tail()"
   ]
  },
  {
   "cell_type": "markdown",
   "metadata": {},
   "source": [
    "In the next object called 'Trans', the raw transcriptome, in which it's coding potencial was analyzed, should be stored:"
   ]
  },
  {
   "cell_type": "code",
   "execution_count": 7,
   "metadata": {},
   "outputs": [],
   "source": [
    "Trans=list(SeqIO.parse(os.path.join(base_path,'raw_assemblies/Purp_global.fasta'),'fasta'))"
   ]
  },
  {
   "cell_type": "markdown",
   "metadata": {},
   "source": [
    "# Main functions:"
   ]
  },
  {
   "cell_type": "markdown",
   "metadata": {},
   "source": [
    "**i.** Function to distribute coding and non-coding transcripts into separated lists. It receives each program's dataframe, previously generated, and the 'busco' parameter, either 'coding' or 'noncoding', which clarifies what you're looking for, coding or non-coding transcript list, respectively. This function returns a list with the coding or non-coding transcript's identifiers."
   ]
  },
  {
   "cell_type": "code",
   "execution_count": 8,
   "metadata": {},
   "outputs": [],
   "source": [
    "def decoding(dataframe,busco):\n",
    "    noncoding_list=[]\n",
    "    coding_list=[]\n",
    "    i=0\n",
    "    f=len(dataframe)\n",
    "    x=(len(dataframe)-1)\n",
    "    while i<f:\n",
    "        a=dataframe.iloc[i]['label']           \n",
    "        if a=='coding' or a==1:\n",
    "            coding_list.append(dataframe.iloc[i]['ID'])\n",
    "            i+=1\n",
    "        else:\n",
    "            noncoding_list.append(dataframe.iloc[i]['ID'])\n",
    "            i+=1\n",
    "    if i==f and busco=='coding':\n",
    "        return coding_list\n",
    "    elif i==f and busco=='noncoding':\n",
    "        return noncoding_list"
   ]
  },
  {
   "cell_type": "markdown",
   "metadata": {},
   "source": [
    "**ii.**Function to change ID's format from PLEK and PORTRAIT, with means to be comparable with those from CPC2. The only receiving parameter is the spawned list with the function decoding(). It returns a modified list, equivalent with CPC2's IDs."
   ]
  },
  {
   "cell_type": "code",
   "execution_count": 9,
   "metadata": {},
   "outputs": [],
   "source": [
    "def formatting(lista):\n",
    "    sepList=[]\n",
    "    i=0\n",
    "    n=0\n",
    "    while i<len(lista):\n",
    "        sepList.append(lista[i].split()[0].strip('>'))\n",
    "        i=i+1\n",
    "    return sepList"
   ]
  },
  {
   "cell_type": "markdown",
   "metadata": {},
   "source": [
    "**Coding transcripts lists from each program:**"
   ]
  },
  {
   "cell_type": "code",
   "execution_count": 10,
   "metadata": {},
   "outputs": [],
   "source": [
    "cCPC2=decoding(CPC2,'coding')\n",
    "cPLEK=decoding(PLEK2,'coding')\n",
    "cPORTRAIT=formatting(decoding(PORTRAIT2,'coding'))"
   ]
  },
  {
   "cell_type": "markdown",
   "metadata": {},
   "source": [
    "**Non-coding transcripts lists from each program:**"
   ]
  },
  {
   "cell_type": "code",
   "execution_count": 11,
   "metadata": {},
   "outputs": [],
   "source": [
    "ncCPC2=decoding(CPC2,'noncoding')\n",
    "ncPLEK=formatting(decoding(PLEK2,'noncoding'))\n",
    "ncPORTRAIT=formatting(decoding(PORTRAIT2,'noncoding'))"
   ]
  },
  {
   "cell_type": "markdown",
   "metadata": {},
   "source": [
    "For instance, you should find which list has the minimal length, or no length at all, in order to use it as the threshold for the function concatenate(), likeso:"
   ]
  },
  {
   "cell_type": "code",
   "execution_count": 12,
   "metadata": {},
   "outputs": [],
   "source": [
    "def length(list1,list2,list3):\n",
    "    le1=len(list1)\n",
    "    le2=len(list2)\n",
    "    le3=len(list3)\n",
    "    if le1==0:\n",
    "        if le2<le3:\n",
    "            return 'Caution, list1 equals 0 and list2 has the lowest length'\n",
    "        else:\n",
    "            return 'Caution, list1 equals 0 and list3 has the lowest length'\n",
    "    elif le2==0:\n",
    "        if le1<le3:\n",
    "            return 'Caution, list2 equals 0 and list1 has the lowest length'\n",
    "        else:\n",
    "            return 'Caution, list2 equals 0 and list3 has the lowest length'\n",
    "    elif le3==0:\n",
    "        if le2<le1:\n",
    "            return 'Caution, list3 equals 0 and list2 has the lowest length'\n",
    "        else:\n",
    "            return 'Caution, list3 equals 0 and list1 has the lowest length'\n",
    "    elif le1<le3 and le1<le2:   \n",
    "        return 'The list1 has the lowest length'\n",
    "    elif le2<le3 and le2<le1:\n",
    "        return 'The list2 has the lowest length'\n",
    "    else:\n",
    "        return 'The list3 has the lowest length'    "
   ]
  },
  {
   "cell_type": "markdown",
   "metadata": {},
   "source": [
    "**iii.** Function to concatenate common coding and non-coding lists, from the three outputs of the aforementioned\n",
    "programs,into two lists, duplicates presence not allowed, concatri(). It receives the three lists, but you should pay attention to their order. The only requirement whatsoever is the first list, that must be the one with the lowest length. In addition, if you noticed with the function length() a list with length 0, you should use instead, the function concadu() for the two lists with non zero length:"
   ]
  },
  {
   "cell_type": "code",
   "execution_count": 13,
   "metadata": {},
   "outputs": [],
   "source": [
    "def concatri(list1,list2,list3):\n",
    "    l1=len(list1)\n",
    "    l2=len(list2)\n",
    "    l3=len(list3)\n",
    "    final_list=[]\n",
    "    for i in range(l1):\n",
    "        for x in range(l2):\n",
    "            if list1[i]==list2[x]:\n",
    "                for j in range(l3):\n",
    "                    if list1[i]==list3[j]:\n",
    "                        final_list.append(list1[i])\n",
    "    return final_list "
   ]
  },
  {
   "cell_type": "code",
   "execution_count": 14,
   "metadata": {},
   "outputs": [],
   "source": [
    "def concadu(list1,list2):\n",
    "    l1=len(list1)\n",
    "    l2=len(list2)\n",
    "    final_list=[]\n",
    "    for i in range(l1):\n",
    "        for x in range(l2):\n",
    "            if list1[i]==list2[x]:\n",
    "                final_list.append(list1[i])\n",
    "    return final_list "
   ]
  },
  {
   "cell_type": "markdown",
   "metadata": {},
   "source": [
    "**Identifying common coding transcripts from PLEK,PORTRAIT and CPC2**"
   ]
  },
  {
   "cell_type": "code",
   "execution_count": 15,
   "metadata": {},
   "outputs": [
    {
     "data": {
      "text/plain": [
       "'Caution, list1 equals 0 and list3 has the lowest length'"
      ]
     },
     "execution_count": 15,
     "metadata": {},
     "output_type": "execute_result"
    }
   ],
   "source": [
    "length(cPLEK,cPORTRAIT,cCPC2)"
   ]
  },
  {
   "cell_type": "markdown",
   "metadata": {},
   "source": [
    "So, as the list 1 and list 3 lengths equal 0  and the lowest number, respectively, you should use the function concadu(), with the list1 parameter being the list with the lowest length, in this case, cCPC2:"
   ]
  },
  {
   "cell_type": "code",
   "execution_count": 16,
   "metadata": {},
   "outputs": [],
   "source": [
    "cc=concadu(cCPC2,cPORTRAIT) #cc means common coding transcripts"
   ]
  },
  {
   "cell_type": "markdown",
   "metadata": {},
   "source": [
    "**Identifying common non-coding transcripts from PLEK,PORTRAIT and CPC2**"
   ]
  },
  {
   "cell_type": "code",
   "execution_count": 17,
   "metadata": {},
   "outputs": [
    {
     "data": {
      "text/plain": [
       "'The list2 has the lowest length'"
      ]
     },
     "execution_count": 17,
     "metadata": {},
     "output_type": "execute_result"
    }
   ],
   "source": [
    "length(ncPLEK,ncPORTRAIT,ncCPC2)"
   ]
  },
  {
   "cell_type": "markdown",
   "metadata": {},
   "source": [
    "As the list2 has the lowest length overall, you should use it with the function concatri(), as the first parameter likeso:"
   ]
  },
  {
   "cell_type": "code",
   "execution_count": 18,
   "metadata": {},
   "outputs": [],
   "source": [
    "nc=concatri(ncPORTRAIT,ncPLEK,ncCPC2) #nc means common non-coding transcripts"
   ]
  },
  {
   "cell_type": "markdown",
   "metadata": {},
   "source": [
    "**iv**.Function to identify those non-coding and coding transcripts in the raw transcriptome. It receives the raw transcriptome and the list with the coding or non-coding sequences IDs. Its output is a list with the coding and non-coding IDs's and respective sequences's."
   ]
  },
  {
   "cell_type": "code",
   "execution_count": 19,
   "metadata": {},
   "outputs": [],
   "source": [
    "def onT(record,lista):\n",
    "    transcriptome_nc=[]\n",
    "    f=len(lista)\n",
    "    i=0\n",
    "    k=0\n",
    "    while i<f:\n",
    "        if  lista[i]==record[k].id:\n",
    "            a='>'+record[k].id+'\\n'+record[k].seq\n",
    "            a.strip('Seq(')\n",
    "            transcriptome_nc.append(a)\n",
    "            i=i+1\n",
    "            k=0\n",
    "        else:\n",
    "            k+=1\n",
    "    return transcriptome_nc                      "
   ]
  },
  {
   "cell_type": "markdown",
   "metadata": {},
   "source": [
    "**Output de la función onT:**"
   ]
  },
  {
   "cell_type": "code",
   "execution_count": 20,
   "metadata": {},
   "outputs": [],
   "source": [
    "cFin=onT(Trans,cc)\n",
    "ncFin=onT(Trans,nc)"
   ]
  },
  {
   "cell_type": "markdown",
   "metadata": {},
   "source": [
    "**v**. Function to convert both previously lists, cFin and ncFin, into fasta files. It receives each of these lists and a parameter, which could be: 'coding', 'noncoding' or 'other', meaning which kind of transcriptome is desired:\n"
   ]
  },
  {
   "cell_type": "code",
   "execution_count": 26,
   "metadata": {},
   "outputs": [],
   "source": [
    "def toFa(lista,param):\n",
    "    if param=='coding':\n",
    "        f=open('Coding_global_Transcriptome.fasta','w+')\n",
    "    elif param=='noncoding':\n",
    "        f=open('Noncoding_global_Transcriptome.fasta','w+')\n",
    "    elif param=='other':\n",
    "        f=open('Other.fasta','w+')\n",
    "    for i in range(len(lista)):\n",
    "        f.write((str(lista[i])).strip('.'))\n",
    "        f.write('\\n')\n",
    "    f.close()\n",
    "    return 'Transcriptome assembled!'"
   ]
  },
  {
   "cell_type": "markdown",
   "metadata": {},
   "source": [
    "**To get the coding global transcriptome:**"
   ]
  },
  {
   "cell_type": "code",
   "execution_count": 27,
   "metadata": {},
   "outputs": [
    {
     "data": {
      "text/plain": [
       "'Transcriptome assembled!'"
      ]
     },
     "execution_count": 27,
     "metadata": {},
     "output_type": "execute_result"
    }
   ],
   "source": [
    "toFa(cFin,'coding')"
   ]
  },
  {
   "cell_type": "markdown",
   "metadata": {},
   "source": [
    "**To get the non-coding global transcriptome:**"
   ]
  },
  {
   "cell_type": "code",
   "execution_count": 28,
   "metadata": {},
   "outputs": [
    {
     "data": {
      "text/plain": [
       "'Transcriptome assembled!'"
      ]
     },
     "execution_count": 28,
     "metadata": {},
     "output_type": "execute_result"
    }
   ],
   "source": [
    "toFa(ncFin,'noncoding')"
   ]
  },
  {
   "cell_type": "markdown",
   "metadata": {},
   "source": [
    "# LncRNAs analysis from FEELnc (Wucher et al. 2017):"
   ]
  },
  {
   "cell_type": "markdown",
   "metadata": {},
   "source": [
    "FEELnc (Wucher et al. 2017), is a software to identify and anotate long non-coding RNAs (lncRNAs) into diferent classes, and regarding their closeness with  neighboring coding genes in a reference genome or with other aproaches."
   ]
  },
  {
   "cell_type": "markdown",
   "metadata": {},
   "source": [
    "At first, you should load your FEELnc ouput into a dataframe:"
   ]
  },
  {
   "cell_type": "code",
   "execution_count": 3,
   "metadata": {},
   "outputs": [
    {
     "name": "stdout",
     "output_type": "stream",
     "text": [
      "(109, 10)\n"
     ]
    },
    {
     "data": {
      "text/html": [
       "<div>\n",
       "<style scoped>\n",
       "    .dataframe tbody tr th:only-of-type {\n",
       "        vertical-align: middle;\n",
       "    }\n",
       "\n",
       "    .dataframe tbody tr th {\n",
       "        vertical-align: top;\n",
       "    }\n",
       "\n",
       "    .dataframe thead th {\n",
       "        text-align: right;\n",
       "    }\n",
       "</style>\n",
       "<table border=\"1\" class=\"dataframe\">\n",
       "  <thead>\n",
       "    <tr style=\"text-align: right;\">\n",
       "      <th></th>\n",
       "      <th>isBest</th>\n",
       "      <th>lncRNA_gene</th>\n",
       "      <th>lncRNA_transcript</th>\n",
       "      <th>partnerRNA_gene</th>\n",
       "      <th>partnerRNA_transcript</th>\n",
       "      <th>direction</th>\n",
       "      <th>type</th>\n",
       "      <th>distance</th>\n",
       "      <th>subtype</th>\n",
       "      <th>location</th>\n",
       "    </tr>\n",
       "  </thead>\n",
       "  <tbody>\n",
       "    <tr>\n",
       "      <th>0</th>\n",
       "      <td>1</td>\n",
       "      <td>g2783</td>\n",
       "      <td>g2783.t1</td>\n",
       "      <td>g2782</td>\n",
       "      <td>g2782.t1</td>\n",
       "      <td>antisense</td>\n",
       "      <td>intergenic</td>\n",
       "      <td>2764</td>\n",
       "      <td>convergent</td>\n",
       "      <td>downstream</td>\n",
       "    </tr>\n",
       "    <tr>\n",
       "      <th>1</th>\n",
       "      <td>1</td>\n",
       "      <td>g11234</td>\n",
       "      <td>g11234.t1</td>\n",
       "      <td>g11235</td>\n",
       "      <td>g11235.t1</td>\n",
       "      <td>sense</td>\n",
       "      <td>intergenic</td>\n",
       "      <td>563</td>\n",
       "      <td>same_strand</td>\n",
       "      <td>downstream</td>\n",
       "    </tr>\n",
       "    <tr>\n",
       "      <th>2</th>\n",
       "      <td>1</td>\n",
       "      <td>g10132</td>\n",
       "      <td>g10132.t1</td>\n",
       "      <td>g10130</td>\n",
       "      <td>g10130.t1</td>\n",
       "      <td>sense</td>\n",
       "      <td>intergenic</td>\n",
       "      <td>4628</td>\n",
       "      <td>same_strand</td>\n",
       "      <td>upstream</td>\n",
       "    </tr>\n",
       "    <tr>\n",
       "      <th>3</th>\n",
       "      <td>1</td>\n",
       "      <td>g9208</td>\n",
       "      <td>g9208.t1</td>\n",
       "      <td>g9207</td>\n",
       "      <td>g9207.t1</td>\n",
       "      <td>antisense</td>\n",
       "      <td>intergenic</td>\n",
       "      <td>51</td>\n",
       "      <td>convergent</td>\n",
       "      <td>downstream</td>\n",
       "    </tr>\n",
       "    <tr>\n",
       "      <th>4</th>\n",
       "      <td>1</td>\n",
       "      <td>g8889</td>\n",
       "      <td>g8889.t1</td>\n",
       "      <td>g8890</td>\n",
       "      <td>g8890.t1</td>\n",
       "      <td>sense</td>\n",
       "      <td>intergenic</td>\n",
       "      <td>7114</td>\n",
       "      <td>same_strand</td>\n",
       "      <td>upstream</td>\n",
       "    </tr>\n",
       "  </tbody>\n",
       "</table>\n",
       "</div>"
      ],
      "text/plain": [
       "   isBest lncRNA_gene lncRNA_transcript partnerRNA_gene partnerRNA_transcript  \\\n",
       "0       1       g2783          g2783.t1           g2782              g2782.t1   \n",
       "1       1      g11234         g11234.t1          g11235             g11235.t1   \n",
       "2       1      g10132         g10132.t1          g10130             g10130.t1   \n",
       "3       1       g9208          g9208.t1           g9207              g9207.t1   \n",
       "4       1       g8889          g8889.t1           g8890              g8890.t1   \n",
       "\n",
       "   direction        type  distance      subtype    location  \n",
       "0  antisense  intergenic      2764   convergent  downstream  \n",
       "1      sense  intergenic       563  same_strand  downstream  \n",
       "2      sense  intergenic      4628  same_strand    upstream  \n",
       "3  antisense  intergenic        51   convergent  downstream  \n",
       "4      sense  intergenic      7114  same_strand    upstream  "
      ]
     },
     "execution_count": 3,
     "metadata": {},
     "output_type": "execute_result"
    }
   ],
   "source": [
    "FEEL= pd.read_csv('lncClases.txt',sep='\\t') \n",
    "print(FEEL.shape)\n",
    "FEEL.head()"
   ]
  },
  {
   "cell_type": "markdown",
   "metadata": {},
   "source": [
    "**vi.**Function to filtrate only good quality lncRNAs. It receives the dataframe and its output are those lncRNAs with the best metrics based upon the variable 'isBest' (Wucher et al. 2017):"
   ]
  },
  {
   "cell_type": "code",
   "execution_count": 4,
   "metadata": {},
   "outputs": [],
   "source": [
    "def Filtering(df):\n",
    "    data=[]\n",
    "    for i in range(len(df)):\n",
    "        if df['isBest'][i]== 1:\n",
    "            data.append([df['isBest'][i],df['lncRNA_gene'][i],df['partnerRNA_gene'][i],\n",
    "                        df['partnerRNA_transcript'][i],df['direction'][i],df['type'][i],\n",
    "                        df['distance'][i],df['subtype'][i],df['location'][i]]) \n",
    "    return data"
   ]
  },
  {
   "cell_type": "markdown",
   "metadata": {},
   "source": [
    "**Function Filtering Output:**"
   ]
  },
  {
   "cell_type": "code",
   "execution_count": 7,
   "metadata": {},
   "outputs": [
    {
     "name": "stdout",
     "output_type": "stream",
     "text": [
      "(103, 9)\n"
     ]
    },
    {
     "data": {
      "text/html": [
       "<div>\n",
       "<style scoped>\n",
       "    .dataframe tbody tr th:only-of-type {\n",
       "        vertical-align: middle;\n",
       "    }\n",
       "\n",
       "    .dataframe tbody tr th {\n",
       "        vertical-align: top;\n",
       "    }\n",
       "\n",
       "    .dataframe thead th {\n",
       "        text-align: right;\n",
       "    }\n",
       "</style>\n",
       "<table border=\"1\" class=\"dataframe\">\n",
       "  <thead>\n",
       "    <tr style=\"text-align: right;\">\n",
       "      <th></th>\n",
       "      <th>isBest</th>\n",
       "      <th>lncRNA_gene</th>\n",
       "      <th>partnerRNA_gene</th>\n",
       "      <th>partnerRNA_transcript</th>\n",
       "      <th>direction</th>\n",
       "      <th>type</th>\n",
       "      <th>distance</th>\n",
       "      <th>subtype</th>\n",
       "      <th>location</th>\n",
       "    </tr>\n",
       "  </thead>\n",
       "  <tbody>\n",
       "    <tr>\n",
       "      <th>0</th>\n",
       "      <td>1</td>\n",
       "      <td>g2783</td>\n",
       "      <td>g2782</td>\n",
       "      <td>g2782.t1</td>\n",
       "      <td>antisense</td>\n",
       "      <td>intergenic</td>\n",
       "      <td>2764</td>\n",
       "      <td>convergent</td>\n",
       "      <td>downstream</td>\n",
       "    </tr>\n",
       "    <tr>\n",
       "      <th>1</th>\n",
       "      <td>1</td>\n",
       "      <td>g11234</td>\n",
       "      <td>g11235</td>\n",
       "      <td>g11235.t1</td>\n",
       "      <td>sense</td>\n",
       "      <td>intergenic</td>\n",
       "      <td>563</td>\n",
       "      <td>same_strand</td>\n",
       "      <td>downstream</td>\n",
       "    </tr>\n",
       "    <tr>\n",
       "      <th>2</th>\n",
       "      <td>1</td>\n",
       "      <td>g10132</td>\n",
       "      <td>g10130</td>\n",
       "      <td>g10130.t1</td>\n",
       "      <td>sense</td>\n",
       "      <td>intergenic</td>\n",
       "      <td>4628</td>\n",
       "      <td>same_strand</td>\n",
       "      <td>upstream</td>\n",
       "    </tr>\n",
       "    <tr>\n",
       "      <th>3</th>\n",
       "      <td>1</td>\n",
       "      <td>g9208</td>\n",
       "      <td>g9207</td>\n",
       "      <td>g9207.t1</td>\n",
       "      <td>antisense</td>\n",
       "      <td>intergenic</td>\n",
       "      <td>51</td>\n",
       "      <td>convergent</td>\n",
       "      <td>downstream</td>\n",
       "    </tr>\n",
       "    <tr>\n",
       "      <th>4</th>\n",
       "      <td>1</td>\n",
       "      <td>g8889</td>\n",
       "      <td>g8890</td>\n",
       "      <td>g8890.t1</td>\n",
       "      <td>sense</td>\n",
       "      <td>intergenic</td>\n",
       "      <td>7114</td>\n",
       "      <td>same_strand</td>\n",
       "      <td>upstream</td>\n",
       "    </tr>\n",
       "  </tbody>\n",
       "</table>\n",
       "</div>"
      ],
      "text/plain": [
       "   isBest lncRNA_gene partnerRNA_gene partnerRNA_transcript  direction  \\\n",
       "0       1       g2783           g2782              g2782.t1  antisense   \n",
       "1       1      g11234          g11235             g11235.t1      sense   \n",
       "2       1      g10132          g10130             g10130.t1      sense   \n",
       "3       1       g9208           g9207              g9207.t1  antisense   \n",
       "4       1       g8889           g8890              g8890.t1      sense   \n",
       "\n",
       "         type  distance      subtype    location  \n",
       "0  intergenic      2764   convergent  downstream  \n",
       "1  intergenic       563  same_strand  downstream  \n",
       "2  intergenic      4628  same_strand    upstream  \n",
       "3  intergenic        51   convergent  downstream  \n",
       "4  intergenic      7114  same_strand    upstream  "
      ]
     },
     "execution_count": 7,
     "metadata": {},
     "output_type": "execute_result"
    }
   ],
   "source": [
    "FIFEEL= pd.DataFrame(Filtering(FEEL), columns = ['isBest','lncRNA_gene','partnerRNA_gene',\n",
    "                                                 'partnerRNA_transcript','direction','type','distance',\n",
    "                                               'subtype','location']) \n",
    "print(FIFEEL.shape)\n",
    "FIFEEL.head()"
   ]
  },
  {
   "cell_type": "markdown",
   "metadata": {},
   "source": [
    "**vii.** Function to create a new file with specific characteristics from the output of FEELnc. It receives the filtered dataframe from the function filtering(), and the specific column's data to get."
   ]
  },
  {
   "cell_type": "code",
   "execution_count": 9,
   "metadata": {},
   "outputs": [],
   "source": [
    "def toTxt(df,column):\n",
    "    f=open('Output_FEEL_lncRNAs.txt','w+')\n",
    "    for i in range(len(df)):\n",
    "        f.write(df[column][i])\n",
    "        f.write('\\n')\n",
    "    f.close()\n",
    "    return 'Dataframe to STRING'"
   ]
  },
  {
   "cell_type": "markdown",
   "metadata": {},
   "source": [
    "**Example with the function toTxt(), to get the IDs of the column 'partnerRNA_transcript' from the filtered dataframe FIFEEL:**"
   ]
  },
  {
   "cell_type": "code",
   "execution_count": 10,
   "metadata": {},
   "outputs": [
    {
     "data": {
      "text/plain": [
       "'Dataframe to STRING'"
      ]
     },
     "execution_count": 10,
     "metadata": {},
     "output_type": "execute_result"
    }
   ],
   "source": [
    "toTxt(FIFEEL,'partnerRNA_transcript')"
   ]
  },
  {
   "cell_type": "markdown",
   "metadata": {},
   "source": [
    "# Getting lncRNAs IDs's  and their partnerRNA transcripts's (PRNAs) sequences from the genome annotations:"
   ]
  },
  {
   "cell_type": "markdown",
   "metadata": {},
   "source": [
    "First, load the fasta file from the genome annotation into a list : "
   ]
  },
  {
   "cell_type": "code",
   "execution_count": 21,
   "metadata": {},
   "outputs": [],
   "source": [
    "Anno=list(SeqIO.parse(os.path.join(base_path,'SeqsFromGFF/protein.fa'),'fasta'))"
   ]
  },
  {
   "cell_type": "markdown",
   "metadata": {},
   "source": [
    "Then, create a new dataframe but only using the good quality FEELnc IDs with a specific column:"
   ]
  },
  {
   "cell_type": "code",
   "execution_count": 24,
   "metadata": {
    "scrolled": true
   },
   "outputs": [
    {
     "name": "stdout",
     "output_type": "stream",
     "text": [
      "(103, 1)\n"
     ]
    },
    {
     "data": {
      "text/html": [
       "<div>\n",
       "<style scoped>\n",
       "    .dataframe tbody tr th:only-of-type {\n",
       "        vertical-align: middle;\n",
       "    }\n",
       "\n",
       "    .dataframe tbody tr th {\n",
       "        vertical-align: top;\n",
       "    }\n",
       "\n",
       "    .dataframe thead th {\n",
       "        text-align: right;\n",
       "    }\n",
       "</style>\n",
       "<table border=\"1\" class=\"dataframe\">\n",
       "  <thead>\n",
       "    <tr style=\"text-align: right;\">\n",
       "      <th></th>\n",
       "      <th>partnerRNA_transcript</th>\n",
       "    </tr>\n",
       "  </thead>\n",
       "  <tbody>\n",
       "    <tr>\n",
       "      <th>0</th>\n",
       "      <td>g11235.t1</td>\n",
       "    </tr>\n",
       "    <tr>\n",
       "      <th>1</th>\n",
       "      <td>g10130.t1</td>\n",
       "    </tr>\n",
       "    <tr>\n",
       "      <th>2</th>\n",
       "      <td>g9207.t1</td>\n",
       "    </tr>\n",
       "    <tr>\n",
       "      <th>3</th>\n",
       "      <td>g8890.t1</td>\n",
       "    </tr>\n",
       "    <tr>\n",
       "      <th>4</th>\n",
       "      <td>g7644.t1</td>\n",
       "    </tr>\n",
       "  </tbody>\n",
       "</table>\n",
       "</div>"
      ],
      "text/plain": [
       "  partnerRNA_transcript\n",
       "0             g11235.t1\n",
       "1             g10130.t1\n",
       "2              g9207.t1\n",
       "3              g8890.t1\n",
       "4              g7644.t1"
      ]
     },
     "execution_count": 24,
     "metadata": {},
     "output_type": "execute_result"
    }
   ],
   "source": [
    "FEELpd=pd.read_csv('Output_FEEL_lncRNAs.txt')\n",
    "FF=FEELpd.columns[0]\n",
    "FEELpd.columns=['partnerRNA_transcript']\n",
    "PT=FEELpd.append({'partnerRNA_transcript' : FF} , ignore_index=True)\n",
    "print(PT.shape)\n",
    "PT.head()"
   ]
  },
  {
   "cell_type": "markdown",
   "metadata": {},
   "source": [
    "**viii.**Function to  convert a specific column from the FEELnc dataframe previously chosen, into  a list in order to find their sequences in the provided reference genome."
   ]
  },
  {
   "cell_type": "code",
   "execution_count": 29,
   "metadata": {},
   "outputs": [],
   "source": [
    "def dftoList(df,column):\n",
    "    Lista=[]\n",
    "    for i in range(len(df)):\n",
    "        Lista.append(df[column][i])\n",
    "    return (Lista)"
   ]
  },
  {
   "cell_type": "markdown",
   "metadata": {},
   "source": [
    "**Output function dftoList**:"
   ]
  },
  {
   "cell_type": "code",
   "execution_count": 44,
   "metadata": {},
   "outputs": [],
   "source": [
    "LiPT=dftoList(PT,'partnerRNA_transcript')"
   ]
  },
  {
   "cell_type": "markdown",
   "metadata": {},
   "source": [
    "**ix.** Finally, a new object, ncTrans, will be generated with the next function,onG(). It looks for the specific IDs,\n",
    "from the list brought by the function dftoList, in the genome annotation file. Its output is a new list having the desired ID's with their respective sequences alongside."
   ]
  },
  {
   "cell_type": "code",
   "execution_count": 46,
   "metadata": {},
   "outputs": [],
   "source": [
    "def onG(record,lista):\n",
    "    transcriptome_nc=[]\n",
    "    f=len(lista)\n",
    "    i=0\n",
    "    k=0\n",
    "    while i<f:\n",
    "        if  lista[i]==(record[k].id).strip('.t1') or lista[i]==(record[k].id):\n",
    "            a='>'+record[k].id+'\\n'+record[k].seq\n",
    "            a.strip('Seq(')\n",
    "            transcriptome_nc.append(a)\n",
    "            k=0\n",
    "            i+=1\n",
    "        else:\n",
    "            if k==len(Anno)-1:\n",
    "                i+=1\n",
    "                k=0\n",
    "            else:\n",
    "                k+=1       \n",
    "    return transcriptome_nc          "
   ]
  },
  {
   "cell_type": "code",
   "execution_count": 47,
   "metadata": {},
   "outputs": [],
   "source": [
    "ncTrans=onG(Anno,LiPT)"
   ]
  },
  {
   "cell_type": "markdown",
   "metadata": {},
   "source": [
    "Finally, you should put these IDs and sequences in a fasta file format.At the end, you should have a fasta file with either the lncRNAs sequences or the PRNAs sequences to be further analyzed. "
   ]
  },
  {
   "cell_type": "code",
   "execution_count": 62,
   "metadata": {},
   "outputs": [
    {
     "data": {
      "text/plain": [
       "'Transcriptome assembled!'"
      ]
     },
     "execution_count": 62,
     "metadata": {},
     "output_type": "execute_result"
    }
   ],
   "source": [
    "toFa(ncTrans,'other')"
   ]
  },
  {
   "cell_type": "markdown",
   "metadata": {},
   "source": [
    "These script was developed by mi cuenta bla bla, with aid from the different available coding potential tools mentioned below."
   ]
  },
  {
   "cell_type": "markdown",
   "metadata": {},
   "source": [
    "# References"
   ]
  },
  {
   "cell_type": "markdown",
   "metadata": {},
   "source": [
    "1.Arrial, R. T., Togawa, R. C., & de M Brigido, M. (2009). Screening non-coding RNAs in transcriptomes from neglected species using PORTRAIT: case study of the pathogenic fungus Paracoccidioides brasiliensis. BMC bioinformatics, 10(1), 239.\n",
    "\n",
    "2.Li, A., Zhang, J., & Zhou, Z. (2014). PLEK: a tool for predicting long non-coding RNAs and messenger RNAs based on an improved k-mer scheme. BMC bioinformatics, 15(1), 311.\n",
    "\n",
    "3.Kang, Y. J., Yang, D. C., Kong, L., Hou, M., Meng, Y. Q., Wei, L., & Gao, G. (2017). CPC2: a fast and accurate coding potential calculator based on sequence intrinsic features. Nucleic acids research, 45(W1), W12-W16.\n",
    "\n",
    "4.Wucher, V., Legeai, F., Hedan, B., Rizk, G., Lagoutte, L., Leeb, T., ... & Cirera, S. (2017). FEELnc: a tool for long non-coding RNA annotation and its application to the dog transcriptome. Nucleic acids research, 45(8), e57-e57.\n",
    "\n",
    "5.Kumar, H., Srikanth, K., Park, W., Lee, S. H., Choi, B. H., Kim, H., ... & Jung, J. Y. (2019). Transcriptome analysis to identify long non coding RNA (lncRNA) and characterize their functional role in back fat tissue of pig. Gene, 703, 71-82.\n"
   ]
  }
 ],
 "metadata": {
  "kernelspec": {
   "display_name": "Python 3",
   "language": "python",
   "name": "python3"
  },
  "language_info": {
   "codemirror_mode": {
    "name": "ipython",
    "version": 3
   },
   "file_extension": ".py",
   "mimetype": "text/x-python",
   "name": "python",
   "nbconvert_exporter": "python",
   "pygments_lexer": "ipython3",
   "version": "3.7.3"
  }
 },
 "nbformat": 4,
 "nbformat_minor": 2
}
